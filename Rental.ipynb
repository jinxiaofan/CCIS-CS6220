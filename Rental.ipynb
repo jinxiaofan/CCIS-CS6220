{
 "cells": [
  {
   "cell_type": "code",
   "execution_count": 103,
   "metadata": {
    "collapsed": false
   },
   "outputs": [],
   "source": [
    "import numpy as np\n",
    "import pandas as pd\n",
    "from sklearn import preprocessing\n",
    "\n",
    "#Normalize \n",
    "df = pd.read_json(\"train.json\")\n",
    "df[\"num_photos\"] = df[\"photos\"].apply(len)\n",
    "df[\"num_features\"] = df[\"features\"].apply(len)\n",
    "df[\"num_description_words\"] = df[\"description\"].apply(lambda x: len(x.split(\" \")))\n",
    "df[\"created\"] = pd.to_datetime(df[\"created\"])\n",
    "df[\"created_year\"] = df[\"created\"].dt.year\n",
    "df[\"created_month\"] = df[\"created\"].dt.month\n",
    "df[\"created_day\"] = df[\"created\"].dt.day\n",
    "\n",
    "features_to_use = [\"bathrooms\", \"bedrooms\", \"latitude\", \"longitude\", \"price\",\n",
    "                   \"num_photos\", \"num_features\", \"num_description_words\",\n",
    "                   \"created_year\", \"created_month\", \"created_day\"]"
   ]
  },
  {
   "cell_type": "code",
   "execution_count": 91,
   "metadata": {
    "collapsed": true
   },
   "outputs": [],
   "source": [
    "lbl = preprocessing.LabelEncoder()\n",
    "lbl.fit(list(df['manager_id'].values))\n",
    "df['manager_id'] = lbl.transform(list(df['manager_id'].values))"
   ]
  },
  {
   "cell_type": "code",
   "execution_count": 104,
   "metadata": {
    "collapsed": false
   },
   "outputs": [
    {
     "name": "stdout",
     "output_type": "stream",
     "text": [
      "        bathrooms  bedrooms  latitude  longitude  price  num_photos  \\\n",
      "10            1.5         3   40.7145   -73.9425   3000           5   \n",
      "10000         1.0         2   40.7947   -73.9667   5465          11   \n",
      "100004        1.0         1   40.7388   -74.0018   2850           8   \n",
      "100007        1.0         1   40.7539   -73.9677   3275           3   \n",
      "100013        1.0         4   40.8241   -73.9493   3350           3   \n",
      "\n",
      "        num_features  num_description_words  created_year  created_month  \\\n",
      "10                 0                     95          2016              6   \n",
      "10000              5                      9          2016              6   \n",
      "100004             4                     94          2016              4   \n",
      "100007             2                     80          2016              4   \n",
      "100013             1                     68          2016              4   \n",
      "\n",
      "        created_day                        manager_id  \n",
      "10               24  5ba989232d0489da1b5f2c45f6688adc  \n",
      "10000            12  7533621a882f71e25173b27e3139d83d  \n",
      "100004           17  d9039c43983f6e564b1482b273bd7b01  \n",
      "100007           18  1067e078446a7897d2da493d2f741316  \n",
      "100013           28  98e13ad4b495b9613cef886d79a6291f  \n"
     ]
    }
   ],
   "source": [
    "#Add manager_id to features\n",
    "features_to_use.extend(['manager_id'])\n",
    "rental = df[features_to_use]\n",
    "#rental.to_csv('initial.csv')\n",
    "print(rental.head())"
   ]
  },
  {
   "cell_type": "code",
   "execution_count": 101,
   "metadata": {
    "collapsed": false
   },
   "outputs": [
    {
     "name": "stdout",
     "output_type": "stream",
     "text": [
      "high             0.081314\n",
      "low              0.673194\n",
      "medium           0.245492\n",
      "manager_skill    0.408120\n",
      "dtype: float64\n"
     ]
    }
   ],
   "source": [
    "#Add manager_skill as a feature\n",
    "X = df[features_to_use]\n",
    "Y = df['interest_level']\n",
    "\n",
    "temp = pd.concat([X.manager_id, pd.get_dummies(Y)], axis=1).groupby('manager_id').mean()\n",
    "temp['count'] = X.groupby('manager_id').count().iloc[:,1]\n",
    "\n",
    "#compute skill\n",
    "temp['manager_skill'] = temp['high']*2 + temp['medium']\n",
    "\n",
    "# get ixes for unranked managers...\n",
    "unranked_managers_ixes = temp['count']<20\n",
    "# ... and ranked ones\n",
    "ranked_managers_ixes = ~unranked_managers_ixes\n",
    "\n",
    "# compute mean values from ranked managers and assign them to unranked ones\n",
    "mean_values = temp.loc[ranked_managers_ixes, ['high','low','medium','manager_skill']].mean()\n",
    "print(mean_values)\n",
    "temp.loc[unranked_managers_ixes,['high','low','medium','manager_skill']] = mean_values.values\n",
    "\n",
    "temp['manager_id'] = temp.index\n",
    "joined = pd.merge(rental, temp,on='manager_id')\n",
    "joined.to_csv('rental.csv')"
   ]
  },
  {
   "cell_type": "code",
   "execution_count": null,
   "metadata": {
    "collapsed": true
   },
   "outputs": [],
   "source": []
  }
 ],
 "metadata": {
  "kernelspec": {
   "display_name": "Python 3",
   "language": "python",
   "name": "python3"
  },
  "language_info": {
   "codemirror_mode": {
    "name": "ipython",
    "version": 3
   },
   "file_extension": ".py",
   "mimetype": "text/x-python",
   "name": "python",
   "nbconvert_exporter": "python",
   "pygments_lexer": "ipython3",
   "version": "3.6.0"
  }
 },
 "nbformat": 4,
 "nbformat_minor": 1
}
