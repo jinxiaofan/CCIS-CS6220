{
 "cells": [
  {
   "cell_type": "code",
   "execution_count": 5,
   "metadata": {
    "collapsed": false
   },
   "outputs": [],
   "source": [
    "import numpy as np\n",
    "import pandas as pd\n",
    "from sklearn import preprocessing\n",
    "from sklearn.ensemble import RandomForestClassifier\n",
    "from sklearn.cross_validation import train_test_split\n",
    "from sklearn.metrics import log_loss\n",
    "import matplotlib.pyplot as plt\n"
   ]
  },
  {
   "cell_type": "markdown",
   "metadata": {},
   "source": [
    "# Define Functions"
   ]
  },
  {
   "cell_type": "code",
   "execution_count": 6,
   "metadata": {
    "collapsed": true
   },
   "outputs": [],
   "source": [
    "#normalize data frame\n",
    "def normalize(df):\n",
    "    #Number of photos\n",
    "    df[\"num_photos\"] = df[\"photos\"].apply(len)\n",
    "    #Number of features\n",
    "    df[\"num_features\"] = df[\"features\"].apply(len)\n",
    "    #Number of description words\n",
    "    df[\"num_description_words\"] = df[\"description\"].apply(lambda x: len(x.split(\" \")))\n",
    "    #Created time \n",
    "    df[\"created\"] = pd.to_datetime(df[\"created\"])\n",
    "    df[\"created_year\"] = df[\"created\"].dt.year\n",
    "    df[\"created_month\"] = df[\"created\"].dt.month\n",
    "    df[\"created_day\"] = df[\"created\"].dt.day\n",
    "    #Manager ID\n",
    "    lbl = preprocessing.LabelEncoder()\n",
    "    lbl.fit(list(df['manager_id'].values))\n",
    "    df['manager_id'] = lbl.transform(list(df['manager_id'].values))\n",
    "    #Building ID\n",
    "    lbl = preprocessing.LabelEncoder()\n",
    "    lbl.fit(list(df['building_id'].values))\n",
    "    df['building_id'] = lbl.transform(list(df['building_id'].values))\n",
    "\n",
    "#add manager_skill\n",
    "def manager_skill(x_train, y_train):\n",
    "    temp = pd.concat([x_train.manager_id, pd.get_dummies(y_train)], axis=1).groupby('manager_id').mean()\n",
    "    temp['count'] = x_train.groupby('manager_id').count().iloc[:,0]\n",
    "\n",
    "    #compute skill\n",
    "    temp['manager_skill'] = temp['high']*2 + temp['medium']\n",
    "    \n",
    "    return temp\n",
    "    \n",
    "#mean skill values\n",
    "def mean_skill(temp):\n",
    "    # get ixes for unranked managers...\n",
    "    unranked_managers_ixes = temp['count']<5\n",
    "    # ... and ranked ones\n",
    "    ranked_managers_ixes = ~unranked_managers_ixes\n",
    "\n",
    "    # compute mean values from ranked managers and assign them to unranked ones\n",
    "    mean_values = temp.loc[ranked_managers_ixes, ['high','low','medium','manager_skill']].mean()\n",
    "    # compute for unranked_managers_ixes\n",
    "    temp.loc[unranked_managers_ixes,['high','low','medium','manager_skill']] = mean_values.values\n",
    "    \n",
    "    return mean_values\n",
    "\n",
    "#price_per_bedroom\n",
    "def price_per_bedroom(x):\n",
    "    x['price_per_bedroom']=0;\n",
    "    x.loc[:, 'price_per_bedroom'] = x.apply(lambda row: valuation_formula(row['bedrooms'], row['price']), axis=1)\n",
    "\n",
    "#bedroom/bathroom\n",
    "def bedratiobath(x):\n",
    "    x['bed_bath_ratio']=0;\n",
    "    x.loc[:, 'bed_bath_ratio'] = x.apply(lambda row: valuation_formula(row['bathrooms'], row['bedrooms']), axis=1)\n",
    "    \n",
    "def valuation_formula(x, y):\n",
    "    if x>0:\n",
    "        return y/x\n",
    "    else:\n",
    "        return y"
   ]
  },
  {
   "cell_type": "markdown",
   "metadata": {},
   "source": [
    "# PreProcessing"
   ]
  },
  {
   "cell_type": "code",
   "execution_count": 7,
   "metadata": {
    "collapsed": false
   },
   "outputs": [],
   "source": [
    "#Read data from file\n",
    "df = pd.read_json(\"train.json\")\n",
    "normalize(df)"
   ]
  },
  {
   "cell_type": "code",
   "execution_count": 8,
   "metadata": {
    "collapsed": false
   },
   "outputs": [],
   "source": [
    "initial_features = [\"bathrooms\", \"bedrooms\", \"latitude\", \"longitude\", \"price\",\n",
    "                   \"num_photos\", \"num_features\", \"num_description_words\",\n",
    "                   \"created_year\", \"created_month\", \"created_day\", \"manager_id\",\"building_id\"]\n",
    "\n",
    "x = df[initial_features]\n",
    "y = df[\"interest_level\"]\n",
    "x_train, x_val, y_train, y_val = train_test_split(x, y, test_size=0.01)\n",
    "\n",
    "temp = manager_skill(x_train, y_train)\n",
    "mean_values = mean_skill(temp)"
   ]
  },
  {
   "cell_type": "code",
   "execution_count": 9,
   "metadata": {
    "collapsed": false
   },
   "outputs": [],
   "source": [
    "x_train = x_train.merge(temp.reset_index(),how='left', left_on='manager_id', right_on='manager_id')\n",
    "\n",
    "x_val = x_val.merge(temp.reset_index(), how='left', left_on='manager_id', right_on='manager_id')\n",
    "new_manager_ixes = x_val['high'].isnull()\n",
    "x_val.loc[new_manager_ixes,['high','low', 'medium','manager_skill']] = mean_values.values\n",
    "\n",
    "price_per_bedroom(x_train)\n",
    "bedratiobath(x_train)\n",
    "price_per_bedroom(x_val)\n",
    "bedratiobath(x_val)"
   ]
  },
  {
   "cell_type": "code",
   "execution_count": 10,
   "metadata": {
    "collapsed": false
   },
   "outputs": [
    {
     "name": "stdout",
     "output_type": "stream",
     "text": [
      "   bathrooms  bedrooms  latitude  longitude  price  num_photos  num_features  \\\n",
      "0        1.0         1   40.7065   -74.0077   2695           6            15   \n",
      "1        1.0         1   40.7462   -73.9759   2400           5             0   \n",
      "2        3.0         3   40.7849   -73.9810  13995          15             7   \n",
      "3        1.0         1   40.7196   -74.0095   7000          10            11   \n",
      "4        1.0         0   40.7744   -73.9509   2049           3             0   \n",
      "\n",
      "   num_description_words  created_year  created_month  created_day  \\\n",
      "0                    127          2016              4           15   \n",
      "1                     24          2016              6           17   \n",
      "2                    383          2016              4            7   \n",
      "3                    180          2016              5           24   \n",
      "4                     33          2016              6           16   \n",
      "\n",
      "   manager_id  building_id      high       low    medium  count  \\\n",
      "0         354         5984  0.347826  0.391304  0.260870     23   \n",
      "1         623         1351  0.015873  0.928571  0.055556    126   \n",
      "2        3273         6941  0.081872  0.711692  0.206435      2   \n",
      "3        1138         3454  0.081872  0.711692  0.206435      1   \n",
      "4         490          229  0.081872  0.711692  0.206435      1   \n",
      "\n",
      "   manager_skill  price_per_bedroom  bed_bath_ratio  \n",
      "0       0.956522             2695.0             1.0  \n",
      "1       0.087302             2400.0             1.0  \n",
      "2       0.370180             4665.0             1.0  \n",
      "3       0.370180             7000.0             1.0  \n",
      "4       0.370180             2049.0             0.0  \n"
     ]
    }
   ],
   "source": [
    "print(x_train.head())\n",
    "x_train.to_csv(\"xtrain.csv\")"
   ]
  },
  {
   "cell_type": "code",
   "execution_count": 11,
   "metadata": {
    "collapsed": false
   },
   "outputs": [],
   "source": [
    "features_to_use = [\"bathrooms\", \"bedrooms\", \"latitude\", \"longitude\", \"price\",\n",
    "                   \"num_photos\", \"num_features\", \"num_description_words\",\n",
    "                   \"created_year\", \"created_month\", \"created_day\", 'high','low','medium',\n",
    "                   \"building_id\",'manager_id','manager_skill','price_per_bedroom','bed_bath_ratio']"
   ]
  },
  {
   "cell_type": "markdown",
   "metadata": {},
   "source": [
    "# Make Prediction\n",
    "## RandomForestClassifier"
   ]
  },
  {
   "cell_type": "code",
   "execution_count": 135,
   "metadata": {
    "collapsed": false
   },
   "outputs": [
    {
     "data": {
      "text/plain": [
       "0.57763216037619214"
      ]
     },
     "execution_count": 135,
     "metadata": {},
     "output_type": "execute_result"
    }
   ],
   "source": [
    "these_features = [f for f in features_to_use if f not in [\"created_year\", 'high','low','medium']]\n",
    "\n",
    "# Random Forest Classification Tree\n",
    "clf = RandomForestClassifier(n_estimators=1000)\n",
    "clf.fit(x_train[these_features], y_train)\n",
    "y_val_pred = clf.predict_proba(x_val[these_features])\n",
    "log_loss(y_val, y_val_pred)"
   ]
  },
  {
   "cell_type": "code",
   "execution_count": 136,
   "metadata": {
    "collapsed": false
   },
   "outputs": [
    {
     "data": {
      "image/png": "[encoded data removed]",
      "text/plain": [
       "<matplotlib.figure.Figure at 0x216b0112550>"
      ]
     },
     "metadata": {},
     "output_type": "display_data"
    }
   ],
   "source": [
    "pd.Series(index = these_features, data = clf.feature_importances_).sort_values().plot(kind = 'bar')\n",
    "plt.show()"
   ]
  },
  {
   "cell_type": "code",
   "execution_count": 137,
   "metadata": {
    "collapsed": true
   },
   "outputs": [],
   "source": [
    "test = pd.read_json(open(\"test.json\", \"r\"))\n",
    "normalize(test)"
   ]
  },
  {
   "cell_type": "code",
   "execution_count": 138,
   "metadata": {
    "collapsed": false
   },
   "outputs": [],
   "source": [
    "x = test[initial_features]\n",
    "x = x.merge(temp.reset_index(), how='left', left_on='manager_id', right_on='manager_id')\n",
    "new_manager_ixes = x['high'].isnull()\n",
    "x.loc[new_manager_ixes,['high','low', 'medium','manager_skill']] = mean_values.values\n",
    "price_per_bedroom(x)\n",
    "bedratiobath(x)"
   ]
  },
  {
   "cell_type": "code",
   "execution_count": 139,
   "metadata": {
    "collapsed": true
   },
   "outputs": [],
   "source": [
    "y = clf.predict_proba(x[these_features])"
   ]
  },
  {
   "cell_type": "code",
   "execution_count": 140,
   "metadata": {
    "collapsed": false
   },
   "outputs": [
    {
     "data": {
      "text/plain": [
       "{'high': 0, 'low': 1, 'medium': 2}"
      ]
     },
     "execution_count": 140,
     "metadata": {},
     "output_type": "execute_result"
    }
   ],
   "source": [
    "labels2idx = {label: i for i, label in enumerate(clf.classes_)}\n",
    "labels2idx"
   ]
  },
  {
   "cell_type": "code",
   "execution_count": 141,
   "metadata": {
    "collapsed": true
   },
   "outputs": [],
   "source": [
    "sub = pd.DataFrame()\n",
    "sub[\"listing_id\"] = test[\"listing_id\"]\n",
    "for label in [\"high\", \"medium\", \"low\"]:\n",
    "    sub[label] = y[:, labels2idx[label]]\n",
    "sub.to_csv(\"submission.csv\", index=False)"
   ]
  },
  {
   "cell_type": "code",
   "execution_count": null,
   "metadata": {
    "collapsed": true
   },
   "outputs": [],
   "source": []
  }
 ],
 "metadata": {
  "anaconda-cloud": {},
  "kernelspec": {
   "display_name": "Python [default]",
   "language": "python",
   "name": "python3"
  },
  "language_info": {
   "codemirror_mode": {
    "name": "ipython",
    "version": 3
   },
   "file_extension": ".py",
   "mimetype": "text/x-python",
   "name": "python",
   "nbconvert_exporter": "python",
   "pygments_lexer": "ipython3",
   "version": "3.5.2"
  }
 },
 "nbformat": 4,
 "nbformat_minor": 1
}
