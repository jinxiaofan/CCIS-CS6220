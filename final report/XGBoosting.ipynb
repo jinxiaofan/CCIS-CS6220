{
 "cells": [
  {
   "cell_type": "code",
   "execution_count": 1,
   "metadata": {
    "collapsed": false
   },
   "outputs": [
    {
     "name": "stderr",
     "output_type": "stream",
     "text": [
      "C:\\Users\\Yang\\Anaconda3\\lib\\site-packages\\sklearn\\cross_validation.py:44: DeprecationWarning: This module was deprecated in version 0.18 in favor of the model_selection module into which all the refactored classes and functions are moved. Also note that the interface of the new CV iterators are different from that of this module. This module will be removed in 0.20.\n",
      "  \"This module will be removed in 0.20.\", DeprecationWarning)\n"
     ]
    }
   ],
   "source": [
    "import os\n",
    "import sys\n",
    "import operator\n",
    "import numpy as np\n",
    "import pandas as pd\n",
    "from scipy import sparse\n",
    "import xgboost as xgb\n",
    "from sklearn import model_selection, preprocessing, ensemble\n",
    "from sklearn.metrics import log_loss\n",
    "from sklearn.feature_extraction.text import TfidfVectorizer, CountVectorizer\n",
    "import matplotlib.pyplot as plt"
   ]
  },
  {
   "cell_type": "code",
   "execution_count": 2,
   "metadata": {
    "collapsed": true
   },
   "outputs": [],
   "source": [
    "def runXGB(train_X, train_y, test_X, test_y=None, feature_names=None, seed_val=0, num_rounds=1000):\n",
    "    param = {}\n",
    "    param['objective'] = 'multi:softmax'\n",
    "    param['eta'] = 0.1\n",
    "    param['max_depth'] = 6\n",
    "    param['silent'] = 1\n",
    "    param['num_class'] = 3\n",
    "    param['eval_metric'] = \"merror\"\n",
    "    param['min_child_weight'] = 1\n",
    "    param['subsample'] = 0.7\n",
    "    param['colsample_bytree'] = 0.7\n",
    "    param['seed'] = seed_val\n",
    "    num_rounds = num_rounds\n",
    "\n",
    "    plst = list(param.items())\n",
    "    xgtrain = xgb.DMatrix(train_X, label=train_y)\n",
    "\n",
    "    if test_y is not None:\n",
    "        xgtest = xgb.DMatrix(test_X, label=test_y)\n",
    "        watchlist = [ (xgtrain, 'training'), (xgtest, 'test') ]\n",
    "        model = xgb.train(plst, xgtrain, num_rounds, watchlist, early_stopping_rounds=20)\n",
    "    else:\n",
    "        xgtest = xgb.DMatrix(test_X)\n",
    "        model = xgb.train(plst, xgtrain, num_rounds)\n",
    "\n",
    "    pred_test_y = model.predict(xgtest)\n",
    "    return pred_test_y, model\n",
    "\n",
    "def runXGBCV(train_X, train_y, feature_names=None, seed_val=0, num_rounds=100):\n",
    "    param = {}\n",
    "    param['objective'] = 'multi:softmax'\n",
    "    param['eta'] = 0.1\n",
    "    param['max_depth'] = 6\n",
    "    param['silent'] = 1\n",
    "    param['num_class'] = 3\n",
    "    param['eval_metric'] = \"merror\"\n",
    "    param['min_child_weight'] = 1\n",
    "    param['subsample'] = 0.7\n",
    "    param['colsample_bytree'] = 0.7\n",
    "    param['seed'] = seed_val\n",
    "    num_rounds = num_rounds\n",
    "\n",
    "    plst = list(param.items())\n",
    "    xgtrain = xgb.DMatrix(train_X, label=train_y)\n",
    "    xgb.cv(plst, xgtrain, num_rounds, nfold=5, metrics={'merror'}, seed=0, \n",
    "           callbacks=[xgb.callback.print_evaluation(show_stdv=False)])"
   ]
  },
  {
   "cell_type": "code",
   "execution_count": 3,
   "metadata": {
    "collapsed": false
   },
   "outputs": [
    {
     "name": "stdout",
     "output_type": "stream",
     "text": [
      "(49352, 15)\n",
      "(74659, 14)\n"
     ]
    }
   ],
   "source": [
    "train_file = \"train.json\"\n",
    "test_file = \"test.json\"\n",
    "train_df = pd.read_json(train_file)\n",
    "test_df = pd.read_json(test_file)\n",
    "print(train_df.shape)\n",
    "print(test_df.shape)"
   ]
  },
  {
   "cell_type": "code",
   "execution_count": 4,
   "metadata": {
    "collapsed": true
   },
   "outputs": [],
   "source": [
    "features_to_use  = [\"bathrooms\", \"bedrooms\", \"latitude\", \"longitude\", \"price\"]"
   ]
  },
  {
   "cell_type": "code",
   "execution_count": 5,
   "metadata": {
    "collapsed": true
   },
   "outputs": [],
   "source": [
    "# count of photos #\n",
    "train_df[\"num_photos\"] = train_df[\"photos\"].apply(len)\n",
    "test_df[\"num_photos\"] = test_df[\"photos\"].apply(len)\n",
    "\n",
    "# count of \"features\" #\n",
    "train_df[\"num_features\"] = train_df[\"features\"].apply(len)\n",
    "test_df[\"num_features\"] = test_df[\"features\"].apply(len)\n",
    "\n",
    "# count of words present in description column #\n",
    "train_df[\"num_description_words\"] = train_df[\"description\"].apply(lambda x: len(x.split(\" \")))\n",
    "test_df[\"num_description_words\"] = test_df[\"description\"].apply(lambda x: len(x.split(\" \")))\n",
    "\n",
    "# convert the created column to datetime object so as to extract more features \n",
    "train_df[\"created\"] = pd.to_datetime(train_df[\"created\"])\n",
    "test_df[\"created\"] = pd.to_datetime(test_df[\"created\"])\n",
    "\n",
    "# Let us extract some features like year, month, day, hour from date columns #\n",
    "train_df[\"created_year\"] = train_df[\"created\"].dt.year\n",
    "test_df[\"created_year\"] = test_df[\"created\"].dt.year\n",
    "train_df[\"created_month\"] = train_df[\"created\"].dt.month\n",
    "test_df[\"created_month\"] = test_df[\"created\"].dt.month\n",
    "train_df[\"created_day\"] = train_df[\"created\"].dt.day\n",
    "test_df[\"created_day\"] = test_df[\"created\"].dt.day\n",
    "\n",
    "# adding all these new features to use list #\n",
    "features_to_use.extend([\"num_photos\", \"num_features\", \"num_description_words\",\"created_year\", \"created_month\", \"created_day\", \"listing_id\"])"
   ]
  },
  {
   "cell_type": "code",
   "execution_count": 6,
   "metadata": {
    "collapsed": true
   },
   "outputs": [],
   "source": [
    "categorical = [\"manager_id\", \"building_id\"]\n",
    "for f in categorical:\n",
    "        if train_df[f].dtype=='object':\n",
    "            #print(f)\n",
    "            lbl = preprocessing.LabelEncoder()\n",
    "            lbl.fit(list(train_df[f].values) + list(test_df[f].values))\n",
    "            train_df[f] = lbl.transform(list(train_df[f].values))\n",
    "            test_df[f] = lbl.transform(list(test_df[f].values))\n",
    "            features_to_use.append(f)"
   ]
  },
  {
   "cell_type": "code",
   "execution_count": 7,
   "metadata": {
    "collapsed": false
   },
   "outputs": [
    {
     "name": "stdout",
     "output_type": "stream",
     "text": [
      "10                                                         \n",
      "10000     Doorman Elevator Fitness_Center Cats_Allowed D...\n",
      "100004    Laundry_In_Building Dishwasher Hardwood_Floors...\n",
      "100007                               Hardwood_Floors No_Fee\n",
      "100013                                              Pre-War\n",
      "Name: features, dtype: object\n"
     ]
    }
   ],
   "source": [
    "train_df['features'] = train_df[\"features\"].apply(lambda x: \" \".join([\"_\".join(i.split(\" \")) for i in x]))\n",
    "test_df['features'] = test_df[\"features\"].apply(lambda x: \" \".join([\"_\".join(i.split(\" \")) for i in x]))\n",
    "print(train_df[\"features\"].head())\n",
    "tfidf = CountVectorizer(stop_words='english', max_features=200)\n",
    "tr_sparse = tfidf.fit_transform(train_df[\"features\"])\n",
    "te_sparse = tfidf.transform(test_df[\"features\"])"
   ]
  },
  {
   "cell_type": "code",
   "execution_count": 8,
   "metadata": {
    "collapsed": false
   },
   "outputs": [
    {
     "name": "stdout",
     "output_type": "stream",
     "text": [
      "(49352, 214) (74659, 214)\n"
     ]
    }
   ],
   "source": [
    "train_X = sparse.hstack([train_df[features_to_use], tr_sparse]).tocsr()\n",
    "test_X = sparse.hstack([test_df[features_to_use], te_sparse]).tocsr()\n",
    "\n",
    "target_num_map = {'high':0, 'medium':1, 'low':2}\n",
    "train_y = np.array(train_df['interest_level'].apply(lambda x: target_num_map[x]))\n",
    "print(train_X.shape, test_X.shape)"
   ]
  },
  {
   "cell_type": "code",
   "execution_count": 44,
   "metadata": {
    "collapsed": false,
    "scrolled": false
   },
   "outputs": [
    {
     "name": "stdout",
     "output_type": "stream",
     "text": [
      "(33065, 214) (33065,) (16287, 214) (16287,)\n",
      "[0]\ttraining-merror:0.281567\ttest-merror:0.289433\n",
      "Multiple eval metrics have been passed: 'test-merror' will be used for early stopping.\n",
      "\n",
      "Will train until test-merror hasn't improved in 20 rounds.\n",
      "[1]\ttraining-merror:0.279964\ttest-merror:0.286609\n",
      "[2]\ttraining-merror:0.281294\ttest-merror:0.289863\n",
      "[3]\ttraining-merror:0.281536\ttest-merror:0.29017\n",
      "[4]\ttraining-merror:0.279994\ttest-merror:0.289924\n",
      "[5]\ttraining-merror:0.281204\ttest-merror:0.290231\n",
      "[6]\ttraining-merror:0.280145\ttest-merror:0.29017\n",
      "[7]\ttraining-merror:0.279752\ttest-merror:0.288881\n",
      "[8]\ttraining-merror:0.278875\ttest-merror:0.28839\n",
      "[9]\ttraining-merror:0.278935\ttest-merror:0.28839\n",
      "[10]\ttraining-merror:0.279056\ttest-merror:0.290293\n",
      "[11]\ttraining-merror:0.2783\ttest-merror:0.28931\n",
      "[12]\ttraining-merror:0.277212\ttest-merror:0.28839\n",
      "[13]\ttraining-merror:0.276637\ttest-merror:0.287714\n",
      "[14]\ttraining-merror:0.276818\ttest-merror:0.287284\n",
      "[15]\ttraining-merror:0.275609\ttest-merror:0.287346\n",
      "[16]\ttraining-merror:0.275034\ttest-merror:0.286118\n",
      "[17]\ttraining-merror:0.273945\ttest-merror:0.285565\n",
      "[18]\ttraining-merror:0.273734\ttest-merror:0.285688\n",
      "[19]\ttraining-merror:0.272917\ttest-merror:0.284214\n",
      "[20]\ttraining-merror:0.272403\ttest-merror:0.283478\n",
      "[21]\ttraining-merror:0.271858\ttest-merror:0.283355\n",
      "[22]\ttraining-merror:0.271858\ttest-merror:0.2836\n",
      "[23]\ttraining-merror:0.270407\ttest-merror:0.283048\n",
      "[24]\ttraining-merror:0.269318\ttest-merror:0.28182\n",
      "[25]\ttraining-merror:0.268834\ttest-merror:0.281697\n",
      "[26]\ttraining-merror:0.267655\ttest-merror:0.280776\n",
      "[27]\ttraining-merror:0.26714\ttest-merror:0.280285\n",
      "[28]\ttraining-merror:0.26714\ttest-merror:0.280408\n",
      "[29]\ttraining-merror:0.266324\ttest-merror:0.280039\n",
      "[30]\ttraining-merror:0.265296\ttest-merror:0.278934\n",
      "[31]\ttraining-merror:0.264298\ttest-merror:0.27832\n",
      "[32]\ttraining-merror:0.263269\ttest-merror:0.278136\n",
      "[33]\ttraining-merror:0.262574\ttest-merror:0.277645\n",
      "[34]\ttraining-merror:0.262362\ttest-merror:0.277645\n",
      "[35]\ttraining-merror:0.261666\ttest-merror:0.277031\n",
      "[36]\ttraining-merror:0.261183\ttest-merror:0.276662\n",
      "[37]\ttraining-merror:0.260578\ttest-merror:0.275803\n",
      "[38]\ttraining-merror:0.259791\ttest-merror:0.275619\n",
      "[39]\ttraining-merror:0.258612\ttest-merror:0.274882\n",
      "[40]\ttraining-merror:0.258128\ttest-merror:0.274452\n",
      "[41]\ttraining-merror:0.256888\ttest-merror:0.27482\n",
      "[42]\ttraining-merror:0.255527\ttest-merror:0.274329\n",
      "[43]\ttraining-merror:0.254589\ttest-merror:0.273101\n",
      "[44]\ttraining-merror:0.253924\ttest-merror:0.272794\n",
      "[45]\ttraining-merror:0.253228\ttest-merror:0.272549\n",
      "[46]\ttraining-merror:0.252835\ttest-merror:0.272794\n",
      "[47]\ttraining-merror:0.251293\ttest-merror:0.272733\n",
      "[48]\ttraining-merror:0.250567\ttest-merror:0.27218\n",
      "[49]\ttraining-merror:0.250174\ttest-merror:0.271628\n",
      "[50]\ttraining-merror:0.249055\ttest-merror:0.271505\n",
      "[51]\ttraining-merror:0.248813\ttest-merror:0.270952\n",
      "[52]\ttraining-merror:0.247573\ttest-merror:0.270338\n",
      "[53]\ttraining-merror:0.246061\ttest-merror:0.270277\n",
      "[54]\ttraining-merror:0.244972\ttest-merror:0.270216\n",
      "[55]\ttraining-merror:0.244004\ttest-merror:0.269479\n",
      "[56]\ttraining-merror:0.243309\ttest-merror:0.269909\n",
      "[57]\ttraining-merror:0.242341\ttest-merror:0.26954\n",
      "[58]\ttraining-merror:0.241313\ttest-merror:0.26911\n",
      "[59]\ttraining-merror:0.240919\ttest-merror:0.268742\n",
      "[60]\ttraining-merror:0.239679\ttest-merror:0.268067\n",
      "[61]\ttraining-merror:0.239377\ttest-merror:0.267698\n",
      "[62]\ttraining-merror:0.238621\ttest-merror:0.267453\n",
      "[63]\ttraining-merror:0.237774\ttest-merror:0.266286\n",
      "[64]\ttraining-merror:0.236353\ttest-merror:0.266654\n",
      "[65]\ttraining-merror:0.235959\ttest-merror:0.266777\n",
      "[66]\ttraining-merror:0.235143\ttest-merror:0.267146\n",
      "[67]\ttraining-merror:0.234296\ttest-merror:0.266777\n",
      "[68]\ttraining-merror:0.233721\ttest-merror:0.267146\n",
      "[69]\ttraining-merror:0.233207\ttest-merror:0.266163\n",
      "[70]\ttraining-merror:0.23236\ttest-merror:0.26604\n",
      "[71]\ttraining-merror:0.231453\ttest-merror:0.265426\n",
      "[72]\ttraining-merror:0.231121\ttest-merror:0.264751\n",
      "[73]\ttraining-merror:0.230909\ttest-merror:0.26469\n",
      "[74]\ttraining-merror:0.229608\ttest-merror:0.264198\n",
      "[75]\ttraining-merror:0.229064\ttest-merror:0.26469\n",
      "[76]\ttraining-merror:0.227884\ttest-merror:0.264321\n",
      "[77]\ttraining-merror:0.227522\ttest-merror:0.26383\n",
      "[78]\ttraining-merror:0.226886\ttest-merror:0.264014\n",
      "[79]\ttraining-merror:0.226403\ttest-merror:0.264321\n",
      "[80]\ttraining-merror:0.225616\ttest-merror:0.263462\n",
      "[81]\ttraining-merror:0.225042\ttest-merror:0.26297\n",
      "[82]\ttraining-merror:0.224044\ttest-merror:0.263216\n",
      "[83]\ttraining-merror:0.223227\ttest-merror:0.261804\n",
      "[84]\ttraining-merror:0.222229\ttest-merror:0.26162\n",
      "[85]\ttraining-merror:0.221231\ttest-merror:0.26033\n",
      "[86]\ttraining-merror:0.22108\ttest-merror:0.260269\n",
      "[87]\ttraining-merror:0.220445\ttest-merror:0.260146\n",
      "[88]\ttraining-merror:0.219779\ttest-merror:0.260146\n",
      "[89]\ttraining-merror:0.219235\ttest-merror:0.260146\n",
      "[90]\ttraining-merror:0.218418\ttest-merror:0.260269\n",
      "[91]\ttraining-merror:0.217904\ttest-merror:0.260269\n",
      "[92]\ttraining-merror:0.217027\ttest-merror:0.260146\n",
      "[93]\ttraining-merror:0.216573\ttest-merror:0.259348\n",
      "[94]\ttraining-merror:0.216362\ttest-merror:0.258857\n",
      "[95]\ttraining-merror:0.215454\ttest-merror:0.258611\n",
      "[96]\ttraining-merror:0.215424\ttest-merror:0.259409\n",
      "[97]\ttraining-merror:0.214971\ttest-merror:0.258673\n",
      "[98]\ttraining-merror:0.214124\ttest-merror:0.259287\n",
      "[99]\ttraining-merror:0.21367\ttest-merror:0.25855\n",
      "[100]\ttraining-merror:0.213579\ttest-merror:0.258366\n",
      "[101]\ttraining-merror:0.213186\ttest-merror:0.257322\n",
      "[102]\ttraining-merror:0.212491\ttest-merror:0.257322\n",
      "[103]\ttraining-merror:0.212158\ttest-merror:0.256953\n",
      "[104]\ttraining-merror:0.212128\ttest-merror:0.256708\n",
      "[105]\ttraining-merror:0.211583\ttest-merror:0.257199\n",
      "[106]\ttraining-merror:0.210615\ttest-merror:0.256769\n",
      "[107]\ttraining-merror:0.20998\ttest-merror:0.256708\n",
      "[108]\ttraining-merror:0.209224\ttest-merror:0.256585\n",
      "[109]\ttraining-merror:0.208952\ttest-merror:0.256401\n",
      "[110]\ttraining-merror:0.208468\ttest-merror:0.256032\n",
      "[111]\ttraining-merror:0.207924\ttest-merror:0.256769\n",
      "[112]\ttraining-merror:0.207168\ttest-merror:0.256708\n",
      "[113]\ttraining-merror:0.207107\ttest-merror:0.256892\n",
      "[114]\ttraining-merror:0.206533\ttest-merror:0.257076\n",
      "[115]\ttraining-merror:0.205444\ttest-merror:0.256646\n",
      "[116]\ttraining-merror:0.205081\ttest-merror:0.256339\n",
      "[117]\ttraining-merror:0.204234\ttest-merror:0.255725\n",
      "[118]\ttraining-merror:0.203962\ttest-merror:0.255971\n",
      "[119]\ttraining-merror:0.203085\ttest-merror:0.256339\n",
      "[120]\ttraining-merror:0.20251\ttest-merror:0.255971\n",
      "[121]\ttraining-merror:0.201754\ttest-merror:0.255725\n",
      "[122]\ttraining-merror:0.201754\ttest-merror:0.255357\n",
      "[123]\ttraining-merror:0.20127\ttest-merror:0.255725\n",
      "[124]\ttraining-merror:0.200786\ttest-merror:0.255296\n",
      "[125]\ttraining-merror:0.199819\ttest-merror:0.25548\n",
      "[126]\ttraining-merror:0.199183\ttest-merror:0.255848\n",
      "[127]\ttraining-merror:0.198579\ttest-merror:0.255603\n",
      "[128]\ttraining-merror:0.198458\ttest-merror:0.255541\n",
      "[129]\ttraining-merror:0.197762\ttest-merror:0.255787\n",
      "[130]\ttraining-merror:0.196945\ttest-merror:0.255357\n",
      "[131]\ttraining-merror:0.196552\ttest-merror:0.255418\n",
      "[132]\ttraining-merror:0.195917\ttest-merror:0.255418\n",
      "[133]\ttraining-merror:0.195343\ttest-merror:0.255725\n",
      "[134]\ttraining-merror:0.194707\ttest-merror:0.25548\n",
      "[135]\ttraining-merror:0.194526\ttest-merror:0.25548\n",
      "[136]\ttraining-merror:0.193709\ttest-merror:0.255787\n",
      "[137]\ttraining-merror:0.193467\ttest-merror:0.255664\n",
      "[138]\ttraining-merror:0.192832\ttest-merror:0.255848\n",
      "[139]\ttraining-merror:0.192651\ttest-merror:0.256094\n",
      "[140]\ttraining-merror:0.191804\ttest-merror:0.255848\n",
      "[141]\ttraining-merror:0.190987\ttest-merror:0.25548\n",
      "[142]\ttraining-merror:0.190655\ttest-merror:0.254743\n",
      "[143]\ttraining-merror:0.190201\ttest-merror:0.254804\n",
      "[144]\ttraining-merror:0.190141\ttest-merror:0.254252\n",
      "[145]\ttraining-merror:0.189778\ttest-merror:0.254804\n",
      "[146]\ttraining-merror:0.189717\ttest-merror:0.254743\n",
      "[147]\ttraining-merror:0.188507\ttest-merror:0.254989\n",
      "[148]\ttraining-merror:0.188356\ttest-merror:0.25505\n",
      "[149]\ttraining-merror:0.187691\ttest-merror:0.254375\n",
      "[150]\ttraining-merror:0.1876\ttest-merror:0.253515\n",
      "[151]\ttraining-merror:0.187782\ttest-merror:0.253576\n",
      "[152]\ttraining-merror:0.187237\ttest-merror:0.253269\n",
      "[153]\ttraining-merror:0.186451\ttest-merror:0.253269\n",
      "[154]\ttraining-merror:0.1863\ttest-merror:0.253515\n",
      "[155]\ttraining-merror:0.185967\ttest-merror:0.253883\n",
      "[156]\ttraining-merror:0.18515\ttest-merror:0.253822\n",
      "[157]\ttraining-merror:0.185211\ttest-merror:0.253883\n",
      "[158]\ttraining-merror:0.184485\ttest-merror:0.254252\n",
      "[159]\ttraining-merror:0.184546\ttest-merror:0.254252\n",
      "[160]\ttraining-merror:0.184213\ttest-merror:0.253945\n",
      "[161]\ttraining-merror:0.18391\ttest-merror:0.252901\n",
      "[162]\ttraining-merror:0.183185\ttest-merror:0.253331\n",
      "[163]\ttraining-merror:0.182791\ttest-merror:0.253208\n",
      "[164]\ttraining-merror:0.182005\ttest-merror:0.253085\n",
      "[165]\ttraining-merror:0.181612\ttest-merror:0.252656\n",
      "[166]\ttraining-merror:0.180886\ttest-merror:0.253331\n",
      "[167]\ttraining-merror:0.180523\ttest-merror:0.253454\n",
      "[168]\ttraining-merror:0.180191\ttest-merror:0.253147\n",
      "[169]\ttraining-merror:0.179949\ttest-merror:0.252901\n",
      "[170]\ttraining-merror:0.179344\ttest-merror:0.253085\n",
      "[171]\ttraining-merror:0.17883\ttest-merror:0.25284\n",
      "[172]\ttraining-merror:0.178134\ttest-merror:0.253331\n",
      "[173]\ttraining-merror:0.177983\ttest-merror:0.253085\n",
      "[174]\ttraining-merror:0.17765\ttest-merror:0.25241\n",
      "[175]\ttraining-merror:0.176954\ttest-merror:0.252778\n",
      "[176]\ttraining-merror:0.176561\ttest-merror:0.252164\n",
      "[177]\ttraining-merror:0.175896\ttest-merror:0.252103\n",
      "[178]\ttraining-merror:0.175473\ttest-merror:0.25198\n",
      "[179]\ttraining-merror:0.174747\ttest-merror:0.251857\n",
      "[180]\ttraining-merror:0.174081\ttest-merror:0.251673\n",
      "[181]\ttraining-merror:0.173567\ttest-merror:0.252287\n",
      "[182]\ttraining-merror:0.173386\ttest-merror:0.251857\n",
      "[183]\ttraining-merror:0.172902\ttest-merror:0.251243\n",
      "[184]\ttraining-merror:0.17269\ttest-merror:0.251857\n",
      "[185]\ttraining-merror:0.172206\ttest-merror:0.252349\n",
      "[186]\ttraining-merror:0.171995\ttest-merror:0.252103\n",
      "[187]\ttraining-merror:0.171269\ttest-merror:0.252656\n",
      "[188]\ttraining-merror:0.170815\ttest-merror:0.252533\n",
      "[189]\ttraining-merror:0.169908\ttest-merror:0.251735\n",
      "[190]\ttraining-merror:0.169515\ttest-merror:0.251919\n",
      "[191]\ttraining-merror:0.169091\ttest-merror:0.252042\n",
      "[192]\ttraining-merror:0.168759\ttest-merror:0.252226\n",
      "[193]\ttraining-merror:0.168547\ttest-merror:0.251366\n",
      "[194]\ttraining-merror:0.167972\ttest-merror:0.251305\n",
      "[195]\ttraining-merror:0.16773\ttest-merror:0.251305\n",
      "[196]\ttraining-merror:0.167186\ttest-merror:0.251121\n",
      "[197]\ttraining-merror:0.166823\ttest-merror:0.251305\n",
      "[198]\ttraining-merror:0.166309\ttest-merror:0.251059\n",
      "[199]\ttraining-merror:0.166188\ttest-merror:0.250998\n",
      "[200]\ttraining-merror:0.165674\ttest-merror:0.251059\n",
      "[201]\ttraining-merror:0.165583\ttest-merror:0.250629\n",
      "[202]\ttraining-merror:0.164948\ttest-merror:0.250752\n",
      "[203]\ttraining-merror:0.164131\ttest-merror:0.250629\n",
      "[204]\ttraining-merror:0.163768\ttest-merror:0.250936\n",
      "[205]\ttraining-merror:0.162922\ttest-merror:0.250752\n",
      "[206]\ttraining-merror:0.16277\ttest-merror:0.250691\n",
      "[207]\ttraining-merror:0.162861\ttest-merror:0.250507\n",
      "[208]\ttraining-merror:0.16277\ttest-merror:0.250691\n",
      "[209]\ttraining-merror:0.162226\ttest-merror:0.250998\n",
      "[210]\ttraining-merror:0.162044\ttest-merror:0.25155\n",
      "[211]\ttraining-merror:0.161077\ttest-merror:0.251366\n",
      "[212]\ttraining-merror:0.161107\ttest-merror:0.252103\n",
      "[213]\ttraining-merror:0.160381\ttest-merror:0.251735\n",
      "[214]\ttraining-merror:0.1602\ttest-merror:0.25155\n",
      "[215]\ttraining-merror:0.159837\ttest-merror:0.251796\n",
      "[216]\ttraining-merror:0.15902\ttest-merror:0.251796\n",
      "[217]\ttraining-merror:0.158869\ttest-merror:0.251305\n",
      "[218]\ttraining-merror:0.158839\ttest-merror:0.250936\n",
      "[219]\ttraining-merror:0.158415\ttest-merror:0.250936\n",
      "[220]\ttraining-merror:0.158325\ttest-merror:0.251243\n",
      "[221]\ttraining-merror:0.158234\ttest-merror:0.251428\n",
      "[222]\ttraining-merror:0.157689\ttest-merror:0.251305\n",
      "[223]\ttraining-merror:0.157357\ttest-merror:0.251121\n",
      "[224]\ttraining-merror:0.156752\ttest-merror:0.251305\n",
      "[225]\ttraining-merror:0.156298\ttest-merror:0.251673\n",
      "[226]\ttraining-merror:0.156117\ttest-merror:0.250998\n",
      "[227]\ttraining-merror:0.155482\ttest-merror:0.250445\n",
      "[228]\ttraining-merror:0.155391\ttest-merror:0.250507\n",
      "[229]\ttraining-merror:0.155391\ttest-merror:0.250691\n",
      "[230]\ttraining-merror:0.154695\ttest-merror:0.251059\n",
      "[231]\ttraining-merror:0.154181\ttest-merror:0.250629\n",
      "[232]\ttraining-merror:0.154302\ttest-merror:0.250507\n",
      "[233]\ttraining-merror:0.153546\ttest-merror:0.251059\n",
      "[234]\ttraining-merror:0.15279\ttest-merror:0.250936\n",
      "[235]\ttraining-merror:0.15276\ttest-merror:0.250814\n",
      "[236]\ttraining-merror:0.152397\ttest-merror:0.250936\n",
      "[237]\ttraining-merror:0.152125\ttest-merror:0.250568\n",
      "[238]\ttraining-merror:0.152094\ttest-merror:0.250568\n",
      "[239]\ttraining-merror:0.152004\ttest-merror:0.250629\n",
      "[240]\ttraining-merror:0.151731\ttest-merror:0.250568\n",
      "[241]\ttraining-merror:0.151248\ttest-merror:0.250077\n",
      "[242]\ttraining-merror:0.151096\ttest-merror:0.250015\n",
      "[243]\ttraining-merror:0.150219\ttest-merror:0.250507\n",
      "[244]\ttraining-merror:0.149887\ttest-merror:0.2502\n",
      "[245]\ttraining-merror:0.149887\ttest-merror:0.250322\n",
      "[246]\ttraining-merror:0.149735\ttest-merror:0.250077\n",
      "[247]\ttraining-merror:0.149524\ttest-merror:0.2502\n",
      "[248]\ttraining-merror:0.1491\ttest-merror:0.250261\n",
      "[249]\ttraining-merror:0.148737\ttest-merror:0.250138\n",
      "[250]\ttraining-merror:0.148405\ttest-merror:0.249831\n",
      "[251]\ttraining-merror:0.148253\ttest-merror:0.249893\n",
      "[252]\ttraining-merror:0.147679\ttest-merror:0.250322\n",
      "[253]\ttraining-merror:0.147165\ttest-merror:0.250384\n",
      "[254]\ttraining-merror:0.146862\ttest-merror:0.249954\n",
      "[255]\ttraining-merror:0.146499\ttest-merror:0.250384\n",
      "[256]\ttraining-merror:0.146197\ttest-merror:0.250445\n",
      "[257]\ttraining-merror:0.145955\ttest-merror:0.250322\n",
      "[258]\ttraining-merror:0.145411\ttest-merror:0.250445\n",
      "[259]\ttraining-merror:0.144775\ttest-merror:0.250507\n",
      "[260]\ttraining-merror:0.144382\ttest-merror:0.2502\n",
      "[261]\ttraining-merror:0.143898\ttest-merror:0.249893\n",
      "[262]\ttraining-merror:0.143656\ttest-merror:0.250568\n",
      "[263]\ttraining-merror:0.143475\ttest-merror:0.250507\n",
      "[264]\ttraining-merror:0.143112\ttest-merror:0.250138\n",
      "[265]\ttraining-merror:0.142628\ttest-merror:0.250261\n",
      "[266]\ttraining-merror:0.142628\ttest-merror:0.250138\n",
      "[267]\ttraining-merror:0.142598\ttest-merror:0.249586\n",
      "[268]\ttraining-merror:0.142023\ttest-merror:0.250015\n",
      "[269]\ttraining-merror:0.142023\ttest-merror:0.249893\n",
      "[270]\ttraining-merror:0.14163\ttest-merror:0.250015\n",
      "[271]\ttraining-merror:0.141358\ttest-merror:0.250384\n",
      "[272]\ttraining-merror:0.140995\ttest-merror:0.250507\n",
      "[273]\ttraining-merror:0.141025\ttest-merror:0.250138\n",
      "[274]\ttraining-merror:0.140602\ttest-merror:0.250077\n",
      "[275]\ttraining-merror:0.139906\ttest-merror:0.250507\n",
      "[276]\ttraining-merror:0.139725\ttest-merror:0.250261\n",
      "[277]\ttraining-merror:0.139725\ttest-merror:0.250875\n",
      "[278]\ttraining-merror:0.13909\ttest-merror:0.250629\n",
      "[279]\ttraining-merror:0.138938\ttest-merror:0.250261\n",
      "[280]\ttraining-merror:0.138455\ttest-merror:0.249647\n",
      "[281]\ttraining-merror:0.138213\ttest-merror:0.249586\n",
      "[282]\ttraining-merror:0.138031\ttest-merror:0.249586\n",
      "[283]\ttraining-merror:0.137608\ttest-merror:0.249401\n",
      "[284]\ttraining-merror:0.137426\ttest-merror:0.249893\n",
      "[285]\ttraining-merror:0.137336\ttest-merror:0.249831\n",
      "[286]\ttraining-merror:0.136791\ttest-merror:0.249954\n",
      "[287]\ttraining-merror:0.136186\ttest-merror:0.249586\n",
      "[288]\ttraining-merror:0.135521\ttest-merror:0.249708\n",
      "[289]\ttraining-merror:0.135612\ttest-merror:0.249094\n",
      "[290]\ttraining-merror:0.135279\ttest-merror:0.248972\n",
      "[291]\ttraining-merror:0.134856\ttest-merror:0.248787\n",
      "[292]\ttraining-merror:0.134523\ttest-merror:0.248603\n",
      "[293]\ttraining-merror:0.13419\ttest-merror:0.248665\n",
      "[294]\ttraining-merror:0.134251\ttest-merror:0.248603\n",
      "[295]\ttraining-merror:0.133767\ttest-merror:0.248603\n",
      "[296]\ttraining-merror:0.133585\ttest-merror:0.248542\n",
      "[297]\ttraining-merror:0.133616\ttest-merror:0.249217\n",
      "[298]\ttraining-merror:0.13292\ttest-merror:0.248972\n",
      "[299]\ttraining-merror:0.133011\ttest-merror:0.248726\n",
      "[300]\ttraining-merror:0.132527\ttest-merror:0.249033\n",
      "[301]\ttraining-merror:0.132255\ttest-merror:0.248603\n",
      "[302]\ttraining-merror:0.131922\ttest-merror:0.249033\n",
      "[303]\ttraining-merror:0.131982\ttest-merror:0.248726\n",
      "[304]\ttraining-merror:0.131831\ttest-merror:0.248972\n",
      "[305]\ttraining-merror:0.13171\ttest-merror:0.249033\n",
      "[306]\ttraining-merror:0.130803\ttest-merror:0.249708\n",
      "[307]\ttraining-merror:0.130228\ttest-merror:0.24934\n",
      "[308]\ttraining-merror:0.129986\ttest-merror:0.249524\n",
      "[309]\ttraining-merror:0.129744\ttest-merror:0.249524\n",
      "[310]\ttraining-merror:0.129321\ttest-merror:0.249401\n",
      "[311]\ttraining-merror:0.12914\ttest-merror:0.248542\n",
      "[312]\ttraining-merror:0.128867\ttest-merror:0.248849\n",
      "[313]\ttraining-merror:0.12799\ttest-merror:0.248603\n",
      "[314]\ttraining-merror:0.12793\ttest-merror:0.248665\n",
      "[315]\ttraining-merror:0.127748\ttest-merror:0.248665\n",
      "[316]\ttraining-merror:0.127839\ttest-merror:0.24848\n",
      "[317]\ttraining-merror:0.127537\ttest-merror:0.248972\n",
      "[318]\ttraining-merror:0.127567\ttest-merror:0.249217\n",
      "[319]\ttraining-merror:0.127295\ttest-merror:0.248787\n",
      "[320]\ttraining-merror:0.127174\ttest-merror:0.248849\n",
      "[321]\ttraining-merror:0.127053\ttest-merror:0.248665\n",
      "[322]\ttraining-merror:0.126932\ttest-merror:0.248665\n",
      "[323]\ttraining-merror:0.126448\ttest-merror:0.248665\n",
      "[324]\ttraining-merror:0.126145\ttest-merror:0.24934\n",
      "[325]\ttraining-merror:0.126024\ttest-merror:0.248787\n",
      "[326]\ttraining-merror:0.12542\ttest-merror:0.249094\n",
      "[327]\ttraining-merror:0.125117\ttest-merror:0.249217\n",
      "[328]\ttraining-merror:0.124633\ttest-merror:0.249831\n",
      "[329]\ttraining-merror:0.124331\ttest-merror:0.249524\n",
      "[330]\ttraining-merror:0.124331\ttest-merror:0.249463\n",
      "[331]\ttraining-merror:0.12424\ttest-merror:0.24934\n",
      "[332]\ttraining-merror:0.124119\ttest-merror:0.248787\n",
      "[333]\ttraining-merror:0.123907\ttest-merror:0.249279\n",
      "[334]\ttraining-merror:0.123484\ttest-merror:0.249524\n",
      "[335]\ttraining-merror:0.123121\ttest-merror:0.24977\n",
      "[336]\ttraining-merror:0.122879\ttest-merror:0.250384\n",
      "Stopping. Best iteration:\n",
      "[316]\ttraining-merror:0.127839\ttest-merror:0.24848\n",
      "\n"
     ]
    }
   ],
   "source": [
    "from sklearn.cross_validation import train_test_split\n",
    "\n",
    "x_train, x_val, y_train, y_val = train_test_split(train_X, train_y, test_size=0.33)\n",
    "print(x_train.shape, y_train.shape, x_val.shape, y_val.shape)\n",
    "\n",
    "preds, model = runXGB(x_train, y_train, x_val, y_val)"
   ]
  },
  {
   "cell_type": "code",
   "execution_count": 45,
   "metadata": {
    "collapsed": false
   },
   "outputs": [
    {
     "name": "stdout",
     "output_type": "stream",
     "text": [
      "[ 2.  2.  2. ...,  2.  2.  2.]\n",
      "[2 2 2 ..., 1 2 2]\n",
      "(16287,)\n",
      "(16287,)\n"
     ]
    }
   ],
   "source": [
    "print(preds)\n",
    "print(y_val)\n",
    "print(preds.shape)\n",
    "print(y_val.shape)"
   ]
  },
  {
   "cell_type": "code",
   "execution_count": 70,
   "metadata": {
    "collapsed": false
   },
   "outputs": [
    {
     "name": "stdout",
     "output_type": "stream",
     "text": [
      "             precision    recall  f1-score   support\n",
      "\n",
      "       high       0.27      0.58      0.37       609\n",
      "     medium       0.39      0.50      0.43      2886\n",
      "        low       0.92      0.81      0.87     12792\n",
      "\n",
      "avg / total       0.80      0.75      0.77     16287\n",
      "\n"
     ]
    }
   ],
   "source": [
    "from sklearn.metrics import classification_report\n",
    "\n",
    "target_names = ['high', 'medium', 'low']\n",
    "print(classification_report(preds, y_val, target_names=target_names))"
   ]
  },
  {
   "cell_type": "code",
   "execution_count": 71,
   "metadata": {
    "collapsed": false
   },
   "outputs": [
    {
     "data": {
      "text/plain": [
       "array([[  355,   649,   294],\n",
       "       [  196,  1429,  2073],\n",
       "       [   58,   808, 10425]])"
      ]
     },
     "execution_count": 71,
     "metadata": {},
     "output_type": "execute_result"
    }
   ],
   "source": [
    "from sklearn.metrics import confusion_matrix\n",
    "confusion_matrix(y_val, preds)"
   ]
  },
  {
   "cell_type": "code",
   "execution_count": 75,
   "metadata": {
    "collapsed": false
   },
   "outputs": [
    {
     "data": {
      "image/png": "[encoded data removed]",
      "text/plain": [
       "<matplotlib.figure.Figure at 0x26a147f2b70>"
      ]
     },
     "metadata": {},
     "output_type": "display_data"
    }
   ],
   "source": [
    "bins = np.linspace(0, 2, 6)\n",
    "data = np.vstack([preds, y_val]).T\n",
    "plt.hist(data, bins, alpha=1, label=['predict','real'])\n",
    "plt.legend(loc='upper left')\n",
    "plt.show()\n"
   ]
  },
  {
   "cell_type": "code",
   "execution_count": 73,
   "metadata": {
    "collapsed": false
   },
   "outputs": [],
   "source": [
    "from sklearn.metrics import precision_recall_curve\n",
    "from sklearn.metrics import average_precision_score\n",
    "from sklearn.preprocessing import label_binarize\n",
    "\n",
    "y = label_binarize(y_val, classes=[0,1,2])\n",
    "score = label_binarize(preds, classes=[0,1,2])\n",
    "# Compute Precision-Recall and plot curve\n",
    "precision = dict()\n",
    "recall = dict()\n",
    "average_precision = dict()\n",
    "\n",
    "for i in range(3):\n",
    "    precision[i], recall[i], _ = precision_recall_curve(y[:, i],\n",
    "                                                        score[:, i])\n",
    "    average_precision[i] = average_precision_score(y[:, i], score[:, i])"
   ]
  },
  {
   "cell_type": "code",
   "execution_count": 74,
   "metadata": {
    "collapsed": false
   },
   "outputs": [
    {
     "data": {
      "image/png": "[encoded data removed]",
      "text/plain": [
       "<matplotlib.figure.Figure at 0x26a151ce1d0>"
      ]
     },
     "metadata": {},
     "output_type": "display_data"
    }
   ],
   "source": [
    "# Plot Precision-Recall curve for each class\n",
    "from itertools import cycle\n",
    "colors = cycle(['navy', 'turquoise', 'darkorange', 'cornflowerblue', 'teal'])\n",
    "precision[\"micro\"], recall[\"micro\"], _ = precision_recall_curve(y.ravel(),score.ravel())\n",
    "average_precision[\"micro\"] = average_precision_score(y, score,average=\"micro\")\n",
    "\n",
    "plt.clf()\n",
    "plt.plot(recall[\"micro\"], precision[\"micro\"], color='red', lw=2,\n",
    "         label='micro-average Precision-recall curve (area = {0:0.2f})'\n",
    "               ''.format(average_precision[\"micro\"]))\n",
    "for i, color in zip(range(len(target_names)), colors):\n",
    "    plt.plot(recall[i], precision[i], color=color, lw=2,\n",
    "             label='Precision-recall curve of class {0} (area = {1:0.2f})'\n",
    "                   ''.format(target_names[i], average_precision[i]))\n",
    "\n",
    "plt.xlim([0.0, 1.0])\n",
    "plt.ylim([0.0, 1.05])\n",
    "plt.xlabel('Recall')\n",
    "plt.ylabel('Precision')\n",
    "plt.title('Extension of Precision-Recall curve to multi-class')\n",
    "#plt.legend(loc=\"lower right\")\n",
    "plt.show()"
   ]
  },
  {
   "cell_type": "code",
   "execution_count": 17,
   "metadata": {
    "collapsed": false
   },
   "outputs": [],
   "source": [
    "#cv_scores = []\n",
    "#kf = model_selection.KFold(n_splits=5, shuffle=True, random_state=2016)\n",
    "#for dev_index, val_index in kf.split(range(train_X.shape[0])):\n",
    "#        dev_X, val_X = train_X[dev_index,:], train_X[val_index,:]\n",
    "#        dev_y, val_y = train_y[dev_index], train_y[val_index]\n",
    "#        preds, model = runXGB(dev_X, dev_y, val_X, val_y)\n",
    "#        cv_scores.append(log_loss(val_y, preds))\n",
    "#        print(cv_scores)\n",
    "#        break"
   ]
  },
  {
   "cell_type": "code",
   "execution_count": 61,
   "metadata": {
    "collapsed": false
   },
   "outputs": [
    {
     "name": "stdout",
     "output_type": "stream",
     "text": [
      "[1 1 1 ..., 0 1 1]\n",
      "[1 1 1 ..., 1 1 1]\n"
     ]
    }
   ],
   "source": [
    "y = label_binarize(y_val, classes=[0,1,2])\n",
    "score = label_binarize(preds, classes=[0,1,2])\n",
    "\n",
    "print(y[:,2])\n",
    "print(score[:,2])"
   ]
  },
  {
   "cell_type": "code",
   "execution_count": 69,
   "metadata": {
    "collapsed": false
   },
   "outputs": [
    {
     "data": {
      "image/png": "[encoded data removed]",
      "text/plain": [
       "<matplotlib.figure.Figure at 0x26a0e4bff60>"
      ]
     },
     "metadata": {},
     "output_type": "display_data"
    }
   ],
   "source": [
    "from sklearn.metrics import roc_curve, auc\n",
    "import pandas as pd\n",
    "from scipy import interp\n",
    "\n",
    "mean_tpr = 0.0\n",
    "mean_fpr = np.linspace(0, 1, 100)\n",
    "labels = ['high','medium','low']\n",
    "colors = ['red', 'blue', 'green', 'yellow']\n",
    "\n",
    "for i in range(3):\n",
    "    fpr, tpr, _ = roc_curve(y[:,i], score[:,i])\n",
    "    mean_tpr += interp(mean_fpr, fpr, tpr)\n",
    "    mean_tpr[0] = 0.0\n",
    "    roc_auc = auc(fpr, tpr)\n",
    "    plt.plot(fpr, tpr, lw=1, color=colors[i],\n",
    "             label='ROC %s (area = %0.2f)' % (labels[i], roc_auc))\n",
    "\n",
    "mean_tpr /= 3\n",
    "mean_tpr[-1] = 1.0\n",
    "mean_auc = auc(mean_fpr, mean_tpr)\n",
    "plt.plot(mean_fpr, mean_tpr, color='yellow', linestyle='--',\n",
    "         label='Mean ROC (area = %0.2f)' % mean_auc, lw=2)\n",
    "\n",
    "plt.xlim([-0.05, 1.05])\n",
    "plt.ylim([-0.05, 1.05])\n",
    "plt.xlabel('False Positive Rate')\n",
    "plt.ylabel('True Positive Rate')\n",
    "plt.title('Receiver operating characteristic example')\n",
    "plt.legend(loc=\"lower right\")\n",
    "plt.show()"
   ]
  },
  {
   "cell_type": "code",
   "execution_count": null,
   "metadata": {
    "collapsed": true
   },
   "outputs": [],
   "source": []
  }
 ],
 "metadata": {
  "anaconda-cloud": {},
  "kernelspec": {
   "display_name": "Python [default]",
   "language": "python",
   "name": "python3"
  },
  "language_info": {
   "codemirror_mode": {
    "name": "ipython",
    "version": 3
   },
   "file_extension": ".py",
   "mimetype": "text/x-python",
   "name": "python",
   "nbconvert_exporter": "python",
   "pygments_lexer": "ipython3",
   "version": "3.5.2"
  }
 },
 "nbformat": 4,
 "nbformat_minor": 1
}
